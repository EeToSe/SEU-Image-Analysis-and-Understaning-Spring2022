{
 "cells": [
  {
   "cell_type": "code",
   "execution_count": 106,
   "metadata": {},
   "outputs": [],
   "source": [
    "import cv2\n",
    "import BRIEF\n",
    "import planarH\n",
    "import matplotlib.pyplot as plt\n",
    "import numpy as np\n",
    "import importlib\n",
    "importlib.reload(panoramas)\n",
    "import panoramas"
   ]
  },
  {
   "cell_type": "code",
   "execution_count": 108,
   "metadata": {},
   "outputs": [
    {
     "name": "stdout",
     "output_type": "stream",
     "text": [
      "Matches: 27; Maximum inliners counts: 15\n"
     ]
    }
   ],
   "source": [
    "im1 = cv2.imread('../data/pano_left.jpg')\n",
    "im2 = cv2.imread('../data/pano_right.jpg')\n",
    "\n",
    "locs1, desc1 = BRIEF.briefLite(im1)\n",
    "locs2, desc2 = BRIEF.briefLite(im2)\n",
    "matches = BRIEF.briefMatch(desc1, desc2)\n",
    "#plotMatches(im1,im2,matches,locs1,locs2)\n",
    "H2to1 = planarH.ransacH(matches, locs1, locs2)\n",
    "\n",
    "# im1 = np.float32(im1)/255\n",
    "# im2 = np.float32(im2)/255"
   ]
  },
  {
   "cell_type": "code",
   "execution_count": 52,
   "metadata": {},
   "outputs": [
    {
     "data": {
      "text/plain": [
       "True"
      ]
     },
     "execution_count": 52,
     "metadata": {},
     "output_type": "execute_result"
    }
   ],
   "source": [
    "imPano = panoramas.imageStitching(im1, im2, H2to1)\n",
    "cv2.imwrite('../results/noblend_clip.png', imPano)"
   ]
  },
  {
   "cell_type": "code",
   "execution_count": 107,
   "metadata": {},
   "outputs": [
    {
     "name": "stderr",
     "output_type": "stream",
     "text": [
      "d:\\PhD\\Code\\image-cv\\cmu_cv\\panorama\\src\\panoramas.py:45: RuntimeWarning: invalid value encountered in true_divide\n",
      "  warp_mask1 = warp_mask1 / sum_mask\n"
     ]
    },
    {
     "data": {
      "text/plain": [
       "True"
      ]
     },
     "execution_count": 107,
     "metadata": {},
     "output_type": "execute_result"
    }
   ],
   "source": [
    "imBlend = panoramas.imageStitching_noClip(im1,im2,H2to1)\n",
    "cv2.imwrite('../results/panorama1.png', imBlend)"
   ]
  }
 ],
 "metadata": {
  "interpreter": {
   "hash": "98df4e878252e2f2e93d62f1746352babb33f47bc89c9c794301587ba3c4902c"
  },
  "kernelspec": {
   "display_name": "Python 3.8.2 ('.cmuvenv': venv)",
   "language": "python",
   "name": "python3"
  },
  "language_info": {
   "codemirror_mode": {
    "name": "ipython",
    "version": 3
   },
   "file_extension": ".py",
   "mimetype": "text/x-python",
   "name": "python",
   "nbconvert_exporter": "python",
   "pygments_lexer": "ipython3",
   "version": "3.8.2"
  },
  "orig_nbformat": 4
 },
 "nbformat": 4,
 "nbformat_minor": 2
}
